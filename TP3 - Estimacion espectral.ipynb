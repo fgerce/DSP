{
 "cells": [
  {
   "cell_type": "markdown",
   "metadata": {},
   "source": [
    "## <img src=\"./logo_UTN.svg\" align=\"right\" width=\"150\" /> \n",
    "#### Procesamiento Digital de Señales\n",
    "\n",
    "# Trabajo Práctico 3\n",
    "#### Federico Gercensztein\n",
    "\n",
    "***\n",
    "## Estimación espectral\n"
   ]
  },
  {
   "cell_type": "code",
   "execution_count": 7,
   "metadata": {
    "code_folding": []
   },
   "outputs": [],
   "source": [
    "## Inicialización del Notebook del TP3\n",
    "\n",
    "import numpy as np\n",
    "import scipy.signal as sig\n",
    "import matplotlib as mpl\n",
    "import matplotlib.pyplot as plt\n",
    "from pandas import DataFrame\n",
    "from IPython.display import HTML\n",
    "import scipy.signal as sig\n",
    "from scipy.fftpack import fft, fftshift\n",
    "from spectrum import CORRELOGRAMPSD\n",
    "from spectrum.tools import cshift\n",
    "\n",
    "fs = 1000 # Hz"
   ]
  },
  {
   "cell_type": "markdown",
   "metadata": {},
   "source": [
    "<div class=\"alert alert-block alert-info\">\n",
    "<b>1)</b> Compruebe experimentalmente las propiedades de sesgo y varianza del periodograma.\n",
    "</div>"
   ]
  },
  {
   "cell_type": "markdown",
   "metadata": {},
   "source": [
    "<div class=\"alert alert-block alert-success\">\n",
    "<b>Ayuda:</b> Puede utilizar una señal aleatoria con valores normalmente distribuidos de media nula y varianza **NO** unitaria, es decir $ x \\sim \\mathcal{N}(\\mu=0,\\sigma^2=2)$\n",
    "\n",
    "</div>"
   ]
  },
  {
   "cell_type": "markdown",
   "metadata": {},
   "source": [
    "Es decir, que el periodograma es un estimador de la densidad de potencia espectral (Ver Hayes 8.2.2):\n",
    "\n",
    "$$ \\hat{P_P}(e^{\\frac{2\\pi·k·f_S}{N}}) = \\hat{P_P}(k) = \\frac{1}{N}· \\lvert X(k) \\rvert ^2  $$\n",
    "\n",
    " + **no sesgado asintóticamente** a medida que aumenta la ventana de registro N.\n",
    " + tiene varianza constante y **NO** depende de N."
   ]
  },
  {
   "cell_type": "code",
   "execution_count": 3,
   "metadata": {},
   "outputs": [],
   "source": [
    "# Simular para los siguientes tamaños de señal\n",
    "N = np.array([10, 50, 100, 250, 500, 1000, 5000], dtype=np.float)\n",
    "\n",
    "##########################################\n",
    "# Acá podés generar los gráficos pedidos #\n",
    "##########################################\n",
    "u = 0\n",
    "sigma_2 = 2\n",
    "\n",
    "sesgos = np.zeros(len(N))\n",
    "varianzas = np.zeros(len(N))\n",
    "index = 0\n",
    "\n",
    "for M in N:\n",
    "       s = np.random.normal(u, np.sqrt(sigma_2), int(M))\n",
    "       S = fft(s)\n",
    "       modS = np.abs(S)\n",
    "       periodgram = (modS**2)/M\n",
    "       esperanza = np.mean(periodgram)\n",
    "       sesgos[index] = esperanza\n",
    "       varianzas[index] = np.var(periodgram)\n",
    "       index+=1      "
   ]
  },
  {
   "cell_type": "code",
   "execution_count": 4,
   "metadata": {
    "scrolled": false
   },
   "outputs": [
    {
     "data": {
      "text/html": [
       "<table border=\"1\" class=\"dataframe\">\n",
       "  <thead>\n",
       "    <tr style=\"text-align: right;\">\n",
       "      <th></th>\n",
       "      <th>$s_P$</th>\n",
       "      <th>$v_P$</th>\n",
       "    </tr>\n",
       "  </thead>\n",
       "  <tbody>\n",
       "    <tr>\n",
       "      <th>10.0</th>\n",
       "      <td>1.347162</td>\n",
       "      <td>3.526543</td>\n",
       "    </tr>\n",
       "    <tr>\n",
       "      <th>50.0</th>\n",
       "      <td>2.152480</td>\n",
       "      <td>4.416537</td>\n",
       "    </tr>\n",
       "    <tr>\n",
       "      <th>100.0</th>\n",
       "      <td>2.000833</td>\n",
       "      <td>4.016989</td>\n",
       "    </tr>\n",
       "    <tr>\n",
       "      <th>250.0</th>\n",
       "      <td>2.104431</td>\n",
       "      <td>4.413710</td>\n",
       "    </tr>\n",
       "    <tr>\n",
       "      <th>500.0</th>\n",
       "      <td>1.883034</td>\n",
       "      <td>3.097014</td>\n",
       "    </tr>\n",
       "    <tr>\n",
       "      <th>1000.0</th>\n",
       "      <td>2.031419</td>\n",
       "      <td>4.496370</td>\n",
       "    </tr>\n",
       "    <tr>\n",
       "      <th>5000.0</th>\n",
       "      <td>1.987834</td>\n",
       "      <td>3.948333</td>\n",
       "    </tr>\n",
       "  </tbody>\n",
       "</table>"
      ],
      "text/plain": [
       "<IPython.core.display.HTML object>"
      ]
     },
     "execution_count": 4,
     "metadata": {},
     "output_type": "execute_result"
    }
   ],
   "source": [
    "\n",
    "#######################################\n",
    "# Tu simulación que genere resultados #\n",
    "#######################################\n",
    "\n",
    "tus_resultados_per = [ \n",
    "                   [sesgos[0], varianzas[0]], # <-- acá debería haber numeritos :)\n",
    "                   [sesgos[1], varianzas[1]], # <-- acá debería haber numeritos :)\n",
    "                   [sesgos[2], varianzas[2]], # <-- acá debería haber numeritos :)\n",
    "                   [sesgos[3], varianzas[3]], # <-- acá debería haber numeritos :)\n",
    "                   [sesgos[4], varianzas[4]], # <-- acá debería haber numeritos :)\n",
    "                   [sesgos[5], varianzas[5]], # <-- acá debería haber numeritos :)\n",
    "                   [sesgos[6], varianzas[6]], # <-- acá debería haber numeritos :)\n",
    "                 ]\n",
    "df = DataFrame(tus_resultados_per, columns=['$s_P$', '$v_P$'],\n",
    "               index=N)\n",
    "HTML(df.to_html())\n"
   ]
  },
  {
   "cell_type": "markdown",
   "metadata": {},
   "source": [
    "<div class=\"alert alert-block alert-info\">\n",
    "<b>2)</b>     Compruebe del mismo modo los resultados de sesgo y varianza vistos en la teoría del método de Bartlett.\n",
    "\n",
    "</div>"
   ]
  },
  {
   "cell_type": "markdown",
   "metadata": {},
   "source": [
    "Es decir, que el periodograma de Bartlett es un estimador de la densidad de potencia espectral que promedia K bloques disjuntos de las N muestras de una señal $x$ (Ver Hayes 8.2.4):\n",
    "\n",
    "$$ \\hat{P_B}(k) = \\frac{1}{N}· \\sum^{K-1}_{i=0} \\lvert X(k) \\rvert ^2  $$\n",
    "\n",
    " + **no sesgado asintóticamente** a medida que aumenta la ventana de registro N.\n",
    " + tiene varianza que decrece asintóticamente a medida que aumenta K.\n",
    " + tiene una resolución espectral K veces menor"
   ]
  },
  {
   "cell_type": "code",
   "execution_count": 5,
   "metadata": {},
   "outputs": [],
   "source": [
    "# Simular para los siguientes tamaños de señal\n",
    "N = 1000\n",
    "K = np.array([2, 5, 10, 20, 50], dtype=np.float)\n",
    "\n",
    "##########################################\n",
    "# Acá podés generar los gráficos pedidos #\n",
    "##########################################\n",
    "u = 0\n",
    "sigma_2 = 2\n",
    "s = np.random.normal(u, np.sqrt(sigma_2), N)\n",
    "sesgos = np.zeros(len(K))\n",
    "varianzas = np.zeros(len(K))\n",
    "index = 0\n",
    "\n",
    "for k in K:\n",
    "       L = int(N/k)\n",
    "       S = np.transpose(np.vstack([fft(s[i*L:((i+1)*L)]) for i in range (0,int(k))]))\n",
    "       modS = (np.abs(S)**2)/N\n",
    "       periodgram = np.mean(modS, axis=1)\n",
    "       esperanza = np.mean(periodgram)\n",
    "       sesgos[index] = esperanza\n",
    "       varianzas[index] = np.var(periodgram)\n",
    "       index+=1"
   ]
  },
  {
   "cell_type": "code",
   "execution_count": 6,
   "metadata": {
    "scrolled": false
   },
   "outputs": [
    {
     "data": {
      "text/html": [
       "<table border=\"1\" class=\"dataframe\">\n",
       "  <thead>\n",
       "    <tr style=\"text-align: right;\">\n",
       "      <th></th>\n",
       "      <th>$s_B$</th>\n",
       "      <th>$v_B$</th>\n",
       "    </tr>\n",
       "  </thead>\n",
       "  <tbody>\n",
       "    <tr>\n",
       "      <th>2.0</th>\n",
       "      <td>0.989600</td>\n",
       "      <td>0.495181</td>\n",
       "    </tr>\n",
       "    <tr>\n",
       "      <th>5.0</th>\n",
       "      <td>0.395840</td>\n",
       "      <td>0.030359</td>\n",
       "    </tr>\n",
       "    <tr>\n",
       "      <th>10.0</th>\n",
       "      <td>0.197920</td>\n",
       "      <td>0.004826</td>\n",
       "    </tr>\n",
       "    <tr>\n",
       "      <th>20.0</th>\n",
       "      <td>0.098960</td>\n",
       "      <td>0.000503</td>\n",
       "    </tr>\n",
       "    <tr>\n",
       "      <th>50.0</th>\n",
       "      <td>0.039584</td>\n",
       "      <td>0.000016</td>\n",
       "    </tr>\n",
       "  </tbody>\n",
       "</table>"
      ],
      "text/plain": [
       "<IPython.core.display.HTML object>"
      ]
     },
     "execution_count": 6,
     "metadata": {},
     "output_type": "execute_result"
    }
   ],
   "source": [
    "\n",
    "#######################################\n",
    "# Tu simulación que genere resultados #\n",
    "#######################################\n",
    "\n",
    "tus_resultados_bartlett = [ \n",
    "                   [sesgos[0], varianzas[0]], # <-- acá debería haber numeritos :)\n",
    "                   [sesgos[1], varianzas[1]], # <-- acá debería haber numeritos :)\n",
    "                   [sesgos[2], varianzas[2]], # <-- acá debería haber numeritos :)\n",
    "                   [sesgos[3], varianzas[3]], # <-- acá debería haber numeritos :)\n",
    "                   [sesgos[4], varianzas[4]], # <-- acá debería haber numeritos :)\n",
    "                 ]\n",
    "df = DataFrame(tus_resultados_bartlett, columns=['$s_B$', '$v_B$'],\n",
    "               index=K)\n",
    "HTML(df.to_html())\n"
   ]
  },
  {
   "cell_type": "markdown",
   "metadata": {},
   "source": [
    "<div class=\"alert alert-block alert-info\">\n",
    "Estos resultados parecen no ser consistentes con la teoría del periodogroama de Bartlett. <br>\n",
    "La varianza debería ser aproximadamente la varianza al cuadrado (4) sobre K.\n",
    "</div>"
   ]
  },
  {
   "cell_type": "markdown",
   "metadata": {},
   "source": [
    "<div class=\"alert alert-block alert-info\">\n",
    "<b>3)</b>     Compruebe del mismo modo los resultados de sesgo y varianza vistos en la teoría del método de Welch.\n",
    "\n",
    "</div>"
   ]
  },
  {
   "cell_type": "markdown",
   "metadata": {},
   "source": [
    "Es decir, que el periodograma de Welch es un estimador de la densidad de potencia espectral que promedia K bloques ventaneados por $w(n)$, posiblemente solapados de las N muestras de una señal $x$ (Ver Hayes 8.2.5):\n",
    "\n",
    "$$ \\hat{P_W}(k) = \\frac{1}{K·L·U}· \\sum^{K-1}_{i=0} \\Bigg\\vert \\sum^{L-1}_{n=0}  x(n+i·D) · w(n) · e^{-j2\\pi·k·n·\\frac{f_S}{N}} \\Bigg\\vert^2   $$\n",
    "\n",
    " + **no sesgado asintóticamente** a medida que aumenta la ventana de registro N.\n",
    " + tiene varianza que decrece asintóticamente, a medida que se promedian más bloques de señal.\n",
    " + tiene una resolución espectral inversamente proporcional al tamaño del bloque."
   ]
  },
  {
   "cell_type": "code",
   "execution_count": 9,
   "metadata": {},
   "outputs": [],
   "source": [
    "# Simular para los siguientes tamaños de señal\n",
    "N = 1000\n",
    "slp = 50 # por ciento de ventanas adyacentes\n",
    "K = np.array([2, 5, 10, 20, 50], dtype=np.float)\n",
    "\n",
    "##########################################\n",
    "# Acá podés generar los gráficos pedidos #\n",
    "##########################################\n",
    "u = 0\n",
    "sigma_2 = 2\n",
    "s = np.random.normal(u, np.sqrt(sigma_2), N)\n",
    "sesgos = np.zeros(len(K))\n",
    "varianzas = np.zeros(len(K))\n",
    "index = 0\n",
    "\n",
    "for k in K:\n",
    "       L = int(N/k)\n",
    "       f, S = sig.welch(s, nperseg=L) #hanning windowed, overlap default = 50%\n",
    "       esperanza = np.mean(S)\n",
    "       sesgos[index] = esperanza\n",
    "       varianzas[index] = np.var(S)\n",
    "       index+=1"
   ]
  },
  {
   "cell_type": "code",
   "execution_count": 16,
   "metadata": {
    "scrolled": false
   },
   "outputs": [
    {
     "data": {
      "text/html": [
       "<table border=\"1\" class=\"dataframe\">\n",
       "  <thead>\n",
       "    <tr style=\"text-align: right;\">\n",
       "      <th></th>\n",
       "      <th>$s_B$</th>\n",
       "      <th>$v_B$</th>\n",
       "    </tr>\n",
       "  </thead>\n",
       "  <tbody>\n",
       "    <tr>\n",
       "      <th>2.0</th>\n",
       "      <td>4.123048</td>\n",
       "      <td>5.784472</td>\n",
       "    </tr>\n",
       "    <tr>\n",
       "      <th>5.0</th>\n",
       "      <td>4.128652</td>\n",
       "      <td>2.058581</td>\n",
       "    </tr>\n",
       "    <tr>\n",
       "      <th>10.0</th>\n",
       "      <td>4.099692</td>\n",
       "      <td>1.081507</td>\n",
       "    </tr>\n",
       "    <tr>\n",
       "      <th>20.0</th>\n",
       "      <td>3.917172</td>\n",
       "      <td>1.049927</td>\n",
       "    </tr>\n",
       "    <tr>\n",
       "      <th>50.0</th>\n",
       "      <td>3.606830</td>\n",
       "      <td>1.619639</td>\n",
       "    </tr>\n",
       "  </tbody>\n",
       "</table>"
      ],
      "text/plain": [
       "<IPython.core.display.HTML object>"
      ]
     },
     "execution_count": 16,
     "metadata": {},
     "output_type": "execute_result"
    }
   ],
   "source": [
    "\n",
    "#######################################\n",
    "# Tu simulación que genere resultados #\n",
    "#######################################\n",
    "\n",
    "tus_resultados_welch = [ \n",
    "                   [sesgos[0], varianzas[0]], # <-- acá debería haber numeritos :)\n",
    "                   [sesgos[1], varianzas[1]], # <-- acá debería haber numeritos :)\n",
    "                   [sesgos[2], varianzas[2]], # <-- acá debería haber numeritos :)\n",
    "                   [sesgos[3], varianzas[3]], # <-- acá debería haber numeritos :)\n",
    "                   [sesgos[4], varianzas[4]], # <-- acá debería haber numeritos :)\n",
    "                 ]\n",
    "df = DataFrame(tus_resultados_welch, columns=['$s_B$', '$v_B$'],\n",
    "               index=K)\n",
    "HTML(df.to_html())\n"
   ]
  },
  {
   "cell_type": "markdown",
   "metadata": {},
   "source": [
    "<div class=\"alert alert-block alert-info\">\n",
    "<b>4)</b> Evalue el siguiente estimador de frecuencia de una senoidal contaminada por ruido incorrelado.\n",
    "\n",
    "</div>"
   ]
  },
  {
   "cell_type": "markdown",
   "metadata": {},
   "source": [
    "Para una señal $ x(k) = a_1 · \\mathop{sen}(\\Omega_1·k) + n(k)$\n",
    "\n",
    "siendo \n",
    "\n",
    "  $\\Omega_1 = \\Omega_0 + f_r·\\frac{2\\pi}{N} $\n",
    "\n",
    "  $\\Omega_0 = \\frac{\\pi}{2} $\n",
    "  \n",
    "y las variables aleatorias definidas por\n",
    "\n",
    "  $f_r \\sim \\mathcal{U}(-\\frac{1}{2}, \\, \\frac{1}{2}) $\n",
    "\n",
    "  $n \\sim \\mathcal{N}(0, \\, \\sigma ^2) $\n",
    "  \n",
    "Evalúe el siguiente estimador de $\\Omega_1$\n",
    "\n",
    "  $\\hat{\\Omega}_1^W = \\mathop{arg\\ max}_f \\{ \\hat{P_W} \\} $\n",
    "  \n",
    "basado en el periodograma de Welch evaluado en **3)**. Del mismo modo, evalúe otro estimador de la PSD para crear otro estimador de $\\Omega_1$\n",
    "\n",
    "  $\\hat{\\Omega}_1^X = \\mathop{arg\\ max}_f \\{ \\hat{P_X} \\} $\n",
    "\n",
    "Considere 200 realizaciones de 1000 muestras para cada experimento. Cada realización debe tener un SNR tal que el pico de la senoidal esté 3 y 10 db por encima del *piso* de ruido impuesto por $n(k)$.\n"
   ]
  },
  {
   "cell_type": "markdown",
   "metadata": {},
   "source": [
    "<div class=\"alert alert-block alert-success\">\n",
    "<b>Ayuda:</b> Puede utilizar el módulo de análisis espectral **Spectrum** donde encontrará la mayoría de los métodos descriptos en el Capítulo 8 del libro de Hayes.\n",
    "\n",
    "</div>"
   ]
  },
  {
   "cell_type": "code",
   "execution_count": 8,
   "metadata": {},
   "outputs": [],
   "source": [
    "# Simular para los siguientes tamaños de señal\n",
    "\n",
    "\n",
    "N  = 1000 # muestras\n",
    "fs = 1000 # Hz\n",
    "\n",
    "k = 200 #realizaciones\n",
    "\n",
    "fr = np.random.uniform(-0.5, 0.5, k)\n",
    "\n",
    "f0 = fs/4 + fr*2*np.pi\n",
    "p0 = 0     # radianes\n",
    "a0db = 10\n",
    "a0 = 10**(a0db/20)     # Volts\n",
    "\n",
    "Ts = 1/fs\n",
    "tt = np.linspace(0, (N-1)*Ts, N)\n",
    "\n",
    "s = np.transpose(np.vstack([a0*np.sin(2*np.pi*ff*tt + p0) for ff in f0])) \n",
    "\n",
    "u = 0\n",
    "sigma_2 = 2\n",
    "dbDiff = 3 # Ruido 3dB por debajo del pico de la señal\n",
    "dbSignal = 20*np.log10(a0)\n",
    "an = 10**((dbSignal-dbDiff)/20)\n",
    "n = an*np.transpose(np.vstack([np.random.normal(u, np.sqrt(sigma_2), N) for ff in f0]))\n",
    "\n",
    "x = s + n\n",
    "\n",
    "freqX, Xw = sig.welch(x, axis=0)\n",
    "\n",
    "estimador = np.zeros(Xw.shape[0])\n",
    "for r in range(0,Xw.shape[0]):\n",
    "       estimador[r] = freqX[np.argmax(Xw[:,r])]\n",
    "       \n",
    "var = np.var(estimador)\n",
    "estimador = np.mean(estimador)\n",
    "estimador = estimador * fs\n",
    "\n",
    "\n",
    "estimadorCorr = np.zeros(k)\n",
    "for r in range(0,k):\n",
    "       correlogram = CORRELOGRAMPSD(x[:,r], x[:,r], lag=300)\n",
    "       correlogram = cshift(correlogram, len(correlogram)/2)\n",
    "       correlogram = correlogram[int(correlogram.size/2): int(correlogram.size)]\n",
    "       f = np.linspace(0, 0.5, int(len(correlogram)))\n",
    "       estimadorCorr[r] = f[np.argmax(correlogram)]\n",
    "\n",
    "varCorr = np.var(estimadorCorr)\n",
    "mediaCorr = np.mean(estimadorCorr)\n",
    "mediaCorr = mediaCorr * fs    \n",
    "\n",
    "# Obtené los valores XX para que cumplas con el enunciado\n",
    "#SNR = np.array([ XX, XX ], dtype=np.float)\n",
    "\n",
    "##########################################\n",
    "# Acá podés generar los gráficos pedidos #\n",
    "##########################################\n"
   ]
  },
  {
   "cell_type": "markdown",
   "metadata": {},
   "source": [
    "   a) ¿Qué estimador ha elegido? Explique brevemente los fundamentos principales y el enfoque del método elegido.\n"
   ]
  },
  {
   "cell_type": "markdown",
   "metadata": {},
   "source": [
    "<div class=\"alert alert-block alert-warning\">\n",
    "<b>Respuesta:</b> Utilicé el correlograma (Blackman-Tuckey correlogram). El mismo utiliza la propiedades de la transformada de la autocorrelación para calcular la densidad espectral de potencia (PSD). Para que este método no tenga error se deberían tener infinitas muestras y obtener la autocorrelación de la señal para todo tiempo, en nuestro caso que tenemos la señal acotada sabemos que el método tendra cierto error de estimación (como todos los métodos).\n",
    "</div>"
   ]
  },
  {
   "cell_type": "markdown",
   "metadata": {},
   "source": [
    "   b) ¿Qué indicador considera que sería apropiado para poder comparar el rendimiento de ambos estimadores $i_j$?\n"
   ]
  },
  {
   "cell_type": "markdown",
   "metadata": {},
   "source": [
    "<div class=\"alert alert-block alert-warning\">\n",
    "<b>Respuesta:</b> El indicador más importante para compara los métodos es la varianza, debido a que si el estimador tuviera una varianza baja pero estuviera en un valor equivocado, podemos entenderlo como un sesgo y modificar el estimador para que termine siendo insesgado, en cambio con la varianza no hay manera de eliminarla una vez definido el método.\n",
    "</div>"
   ]
  },
  {
   "cell_type": "code",
   "execution_count": 10,
   "metadata": {
    "scrolled": false
   },
   "outputs": [
    {
     "data": {
      "text/html": [
       "<table border=\"1\" class=\"dataframe\">\n",
       "  <thead>\n",
       "    <tr style=\"text-align: right;\">\n",
       "      <th></th>\n",
       "      <th>$i_W$</th>\n",
       "      <th>$i_X$</th>\n",
       "    </tr>\n",
       "  </thead>\n",
       "  <tbody>\n",
       "    <tr>\n",
       "      <th>3 dB</th>\n",
       "      <td>0.000006</td>\n",
       "      <td>0.000003</td>\n",
       "    </tr>\n",
       "    <tr>\n",
       "      <th>10 dB</th>\n",
       "      <td>0.000005</td>\n",
       "      <td>0.000003</td>\n",
       "    </tr>\n",
       "  </tbody>\n",
       "</table>"
      ],
      "text/plain": [
       "<IPython.core.display.HTML object>"
      ]
     },
     "execution_count": 10,
     "metadata": {},
     "output_type": "execute_result"
    }
   ],
   "source": [
    "\n",
    "#######################################\n",
    "# Tu simulación que genere resultados #\n",
    "#######################################\n",
    "N  = 1000 # muestras\n",
    "fs = 1000 # Hz\n",
    "\n",
    "k = 200 #realizaciones\n",
    "\n",
    "fr = np.random.uniform(-0.5, 0.5, k)\n",
    "\n",
    "f0 = fs/4 + fr*2*np.pi\n",
    "p0 = 0     # radianes\n",
    "a0db = 10\n",
    "a0 = 10**(a0db/20)     # Volts\n",
    "\n",
    "Ts = 1/fs\n",
    "tt = np.linspace(0, (N-1)*Ts, N)\n",
    "\n",
    "s = np.transpose(np.vstack([a0*np.sin(2*np.pi*ff*tt + p0) for ff in f0])) \n",
    "\n",
    "u = 0\n",
    "sigma_2 = 2\n",
    "dbDiff = 3 # Ruido 3dB por debajo del pico de la señal\n",
    "dbSignal = 20*np.log10(a0)\n",
    "an = 10**((dbSignal-dbDiff)/20)\n",
    "n = an*np.transpose(np.vstack([np.random.normal(u, np.sqrt(sigma_2), N) for ff in f0]))\n",
    "\n",
    "x = s + n\n",
    "\n",
    "freqX, Xw = sig.welch(x, axis=0)\n",
    "\n",
    "estimador = np.zeros(Xw.shape[0])\n",
    "for r in range(0,Xw.shape[0]):\n",
    "       estimador[r] = freqX[np.argmax(Xw[:,r])]\n",
    "       \n",
    "varWelch10 = np.var(estimador)\n",
    "meanWelch10 = np.mean(estimador)\n",
    "meanWelch10 = meanWelch10 * fs\n",
    "\n",
    "\n",
    "estimadorCorr = np.zeros(k)\n",
    "for r in range(0,k):\n",
    "       correlogram = CORRELOGRAMPSD(x[:,r], x[:,r], lag=100)\n",
    "       correlogram = cshift(correlogram, len(correlogram)/2)\n",
    "       correlogram = correlogram[int(correlogram.size/2): int(correlogram.size)]\n",
    "       f = np.linspace(0, 0.5, int(len(correlogram)))\n",
    "       estimadorCorr[r] = f[np.argmax(correlogram)]\n",
    "\n",
    "varCorr10 = np.var(estimadorCorr)\n",
    "meanCorr10 = np.mean(estimadorCorr)\n",
    "meanCorr10 = meanCorr10 * fs    \n",
    "\n",
    "\n",
    "N  = 1000 # muestras\n",
    "fs = 1000 # Hz\n",
    "\n",
    "k = 200 #realizaciones\n",
    "\n",
    "fr = np.random.uniform(-0.5, 0.5, k)\n",
    "\n",
    "f0 = fs/4 + fr*2*np.pi\n",
    "p0 = 0     # radianes\n",
    "a0db = 3\n",
    "a0 = 10**(a0db/20)     # Volts\n",
    "\n",
    "Ts = 1/fs\n",
    "tt = np.linspace(0, (N-1)*Ts, N)\n",
    "\n",
    "s = np.transpose(np.vstack([a0*np.sin(2*np.pi*ff*tt + p0) for ff in f0])) \n",
    "\n",
    "u = 0\n",
    "sigma_2 = 2\n",
    "dbDiff = 3 # Ruido 3dB por debajo del pico de la señal\n",
    "dbSignal = 20*np.log10(a0)\n",
    "an = 10**((dbSignal-dbDiff)/20)\n",
    "n = an*np.transpose(np.vstack([np.random.normal(u, np.sqrt(sigma_2), N) for ff in f0]))\n",
    "\n",
    "x = s + n\n",
    "\n",
    "freqX, Xw = sig.welch(x, axis=0)\n",
    "\n",
    "estimador = np.zeros(Xw.shape[0])\n",
    "for r in range(0,Xw.shape[0]):\n",
    "       estimador[r] = freqX[np.argmax(Xw[:,r])]\n",
    "       \n",
    "varWelch3 = np.var(estimador)\n",
    "meanWelch3 = np.mean(estimador)\n",
    "meanWelch3 = meanWelch3 * fs\n",
    "\n",
    "\n",
    "estimadorCorr = np.zeros(k)\n",
    "for r in range(0,k):\n",
    "       correlogram = CORRELOGRAMPSD(x[:,r], x[:,r], lag=100)\n",
    "       correlogram = cshift(correlogram, len(correlogram)/2)\n",
    "       correlogram = correlogram[int(correlogram.size/2): int(correlogram.size)]\n",
    "       f = np.linspace(0, 0.5, int(len(correlogram)))\n",
    "       estimadorCorr[r] = f[np.argmax(correlogram)]\n",
    "\n",
    "varCorr3 = np.var(estimadorCorr)\n",
    "meanCorr3 = np.mean(estimadorCorr)\n",
    "meanCorr3 = meanCorr3 * fs    \n",
    "\n",
    "\n",
    "\n",
    "# Una vez definido tu indicador de performance, calculalo y comparalo para las situaciones pedidas.\n",
    "tus_resultados = [ \n",
    "                   [varWelch3, varCorr3], # <-- acá debería haber numeritos :)\n",
    "                   [varWelch10, varCorr10] # <-- acá debería haber numeritos :)\n",
    "                 ]\n",
    "df = DataFrame(tus_resultados, columns=['$i_W$', '$i_X$'],\n",
    "               index=[  \n",
    "                        '3 dB',\n",
    "                        '10 dB'\n",
    "                     ])\n",
    "HTML(df.to_html())\n"
   ]
  }
 ],
 "metadata": {
  "kernelspec": {
   "display_name": "Python 3",
   "language": "python",
   "name": "python3"
  },
  "language_info": {
   "codemirror_mode": {
    "name": "ipython",
    "version": 3
   },
   "file_extension": ".py",
   "mimetype": "text/x-python",
   "name": "python",
   "nbconvert_exporter": "python",
   "pygments_lexer": "ipython3",
   "version": "3.6.8"
  }
 },
 "nbformat": 4,
 "nbformat_minor": 2
}
