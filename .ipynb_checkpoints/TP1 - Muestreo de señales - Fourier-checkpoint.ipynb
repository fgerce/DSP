{
 "cells": [
  {
   "cell_type": "markdown",
   "metadata": {},
   "source": [
    "<img src=\"./logo_UTN.svg\" align=\"right\" width=\"150\" /> \n",
    "#### Procesamiento Digital de Señales\n",
    "\n",
    "# Trabajo Práctico 1\n",
    "#### Federico Gercensztein\n",
    "\n",
    "***\n",
    "## Muestreo de señales - Fourier\n"
   ]
  },
  {
   "cell_type": "markdown",
   "metadata": {},
   "source": [
    "<div class=\"alert alert-block alert-info\">\n",
    "<b>1)</b> Se busca realizar una librería en Python que nos permita obtener $N$ muestras de las siguientes señales de período $T_0=1/f_0$, muestreadas a una frecuencia $f_s$ :\n",
    "\n",
    "</div>"
   ]
  },
  {
   "cell_type": "markdown",
   "metadata": {
    "solution": "shown"
   },
   "source": [
    "\n",
    "+ **Senoidal**\n",
    "\n",
    "> $s(k)=A_0.sin(2\\pi.k.\\frac{ f_0}{f_s} + \\phi_0),\\space\\space \\forall k \\in \\Bbb{R} \\wedge k \\in (0, N-1)$\n",
    "\n",
    "+ __Ruido__ incorrelado de distribución Gaussiana y parámetros $\\mu$ y $\\sigma^2$\n",
    "\n",
    "***\n",
    "\n",
    "+ (Opcional) __Cuadrada__ con ciclo de actividad $d \\in (0,1)$\n",
    "\n",
    "> $s(k)=A_0,\\space\\space \\forall k \\in (0, N.d ]$ \n",
    "\n",
    "> $s(k)=-A_0,\\space \\forall k \\in (N.d, N-1)$\n",
    "\n",
    "+ (Opcional) __Triangular__ con punto de simetría $d \\in (0,1)$ y coeficientes $a_{ij} \\in \\Bbb{R}$\n",
    "\n",
    "> $s(k)=a_{11}.k/f_s+a_{12},\\space\\space \\forall k \\in (0, N.d ]$ \n",
    "\n",
    "> $s(k)=a_{21}.k/f_s+a_{22},\\space \\forall k \\in (N.d, N-1)$\n"
   ]
  },
  {
   "cell_type": "markdown",
   "metadata": {},
   "source": [
    "Es decir que se podría invocar la señal que genere la senoidal de la siguiente manera:\n"
   ]
  },
  {
   "cell_type": "code",
   "execution_count": 1,
   "metadata": {},
   "outputs": [],
   "source": [
    "from Modulos.instrumentos import *"
   ]
  },
  {
   "cell_type": "markdown",
   "metadata": {},
   "source": [
    "a) Genere las gráficas asociadas a las siguientes señales de ejemplo para corroborar el correcto funcionamiento de las funciones. Para la presentación de las mismas, tome como referencia la presentación de la siguiente señal respecto a:\n",
    "\n",
    "* etiquetas indicando cada eje con sus respectivas unidades\n",
    "* leyendas indicando cada trazo o color qué representa\n",
    "* título de la figura que explique lo que se pretende visualizar\n",
    "\n",
    "\n",
    "<img src=\"./fig_ejemplo.svg\" align=\"center\" width=\"100%\" /> \n",
    "<img src=\"./fig_ejemplo2.svg\" align=\"center\" width=\"70%\" /> "
   ]
  },
  {
   "cell_type": "code",
   "execution_count": 2,
   "metadata": {},
   "outputs": [],
   "source": [
    "import numpy as np\n",
    "import matplotlib as mpl\n",
    "import matplotlib.pyplot as plt\n",
    "\n",
    "# Insertar aquí el código para inicializar tu notebook\n",
    "########################################################\n"
   ]
  },
  {
   "cell_type": "code",
   "execution_count": 3,
   "metadata": {},
   "outputs": [],
   "source": [
    "# NO modifiques este bloque\n",
    "############################\n",
    "\n",
    "N  = 1000 # muestras\n",
    "fs = 1000 # Hz\n"
   ]
  },
  {
   "cell_type": "markdown",
   "metadata": {},
   "source": [
    "# # a.1) Senoidal #\n",
    "#################\n",
    "\n",
    "\n",
    "\n",
    "# Insertar aquí el código para generar y visualizar la señal\n",
    "##############################################################"
   ]
  },
  {
   "cell_type": "code",
   "execution_count": 7,
   "metadata": {},
   "outputs": [
    {
     "ename": "TypeError",
     "evalue": "slice indices must be integers or None or have an __index__ method",
     "output_type": "error",
     "traceback": [
      "\u001b[1;31m---------------------------------------------------------------------------\u001b[0m",
      "\u001b[1;31mTypeError\u001b[0m                                 Traceback (most recent call last)",
      "\u001b[1;32m<ipython-input-7-be6d1e853e13>\u001b[0m in \u001b[0;36m<module>\u001b[1;34m\u001b[0m\n\u001b[0;32m     11\u001b[0m \u001b[1;33m\u001b[0m\u001b[0m\n\u001b[0;32m     12\u001b[0m \u001b[0mplt\u001b[0m\u001b[1;33m.\u001b[0m\u001b[0msubplot\u001b[0m\u001b[1;33m(\u001b[0m\u001b[1;36m2\u001b[0m\u001b[1;33m,\u001b[0m\u001b[1;36m1\u001b[0m\u001b[1;33m,\u001b[0m\u001b[1;36m1\u001b[0m\u001b[1;33m)\u001b[0m\u001b[1;33m\u001b[0m\u001b[1;33m\u001b[0m\u001b[0m\n\u001b[1;32m---> 13\u001b[1;33m \u001b[0mmodulo\u001b[0m\u001b[1;33m,\u001b[0m \u001b[0mfase\u001b[0m\u001b[1;33m,\u001b[0m \u001b[0mww\u001b[0m \u001b[1;33m=\u001b[0m \u001b[0manalizador_espectro\u001b[0m\u001b[1;33m(\u001b[0m\u001b[0msignal\u001b[0m\u001b[1;33m,\u001b[0m \u001b[0mfs\u001b[0m\u001b[1;33m)\u001b[0m\u001b[1;33m\u001b[0m\u001b[1;33m\u001b[0m\u001b[0m\n\u001b[0m\u001b[0;32m     14\u001b[0m \u001b[0mplt\u001b[0m\u001b[1;33m.\u001b[0m\u001b[0mplot\u001b[0m\u001b[1;33m(\u001b[0m\u001b[0mww\u001b[0m\u001b[1;33m,\u001b[0m \u001b[0mmodulo\u001b[0m\u001b[1;33m)\u001b[0m\u001b[1;33m\u001b[0m\u001b[1;33m\u001b[0m\u001b[0m\n\u001b[0;32m     15\u001b[0m \u001b[0mplt\u001b[0m\u001b[1;33m.\u001b[0m\u001b[0msubplot\u001b[0m\u001b[1;33m(\u001b[0m\u001b[1;36m2\u001b[0m\u001b[1;33m,\u001b[0m\u001b[1;36m1\u001b[0m\u001b[1;33m,\u001b[0m\u001b[1;36m2\u001b[0m\u001b[1;33m)\u001b[0m\u001b[1;33m\u001b[0m\u001b[1;33m\u001b[0m\u001b[0m\n",
      "\u001b[1;32m~\\Desktop\\DSP\\Repos\\tps_pds\\Modulos\\instrumentos.py\u001b[0m in \u001b[0;36manalizador_espectro\u001b[1;34m(signal, fs)\u001b[0m\n\u001b[0;32m     16\u001b[0m     \u001b[0mfase\u001b[0m \u001b[1;33m=\u001b[0m \u001b[0mnp\u001b[0m\u001b[1;33m.\u001b[0m\u001b[0mangle\u001b[0m\u001b[1;33m(\u001b[0m\u001b[0mcomplexArray\u001b[0m\u001b[1;33m)\u001b[0m\u001b[1;33m\u001b[0m\u001b[1;33m\u001b[0m\u001b[0m\n\u001b[0;32m     17\u001b[0m     \u001b[0mww\u001b[0m \u001b[1;33m=\u001b[0m \u001b[0mnp\u001b[0m\u001b[1;33m.\u001b[0m\u001b[0mlinspace\u001b[0m\u001b[1;33m(\u001b[0m\u001b[1;36m0\u001b[0m\u001b[1;33m,\u001b[0m\u001b[1;33m(\u001b[0m\u001b[0mN\u001b[0m\u001b[1;33m-\u001b[0m\u001b[1;36m1\u001b[0m\u001b[1;33m)\u001b[0m\u001b[1;33m*\u001b[0m\u001b[0mfs\u001b[0m\u001b[1;33m/\u001b[0m\u001b[0mN\u001b[0m\u001b[1;33m,\u001b[0m \u001b[0mN\u001b[0m\u001b[1;33m)\u001b[0m \u001b[1;33m-\u001b[0m \u001b[0mN\u001b[0m\u001b[1;33m/\u001b[0m\u001b[1;36m2\u001b[0m\u001b[1;33m\u001b[0m\u001b[1;33m\u001b[0m\u001b[0m\n\u001b[1;32m---> 18\u001b[1;33m     \u001b[1;32mreturn\u001b[0m \u001b[0mmodulo\u001b[0m\u001b[1;33m[\u001b[0m\u001b[1;36m0\u001b[0m\u001b[1;33m:\u001b[0m\u001b[1;36m10\u001b[0m\u001b[1;33m]\u001b[0m\u001b[1;33m,\u001b[0m \u001b[0mfase\u001b[0m\u001b[1;33m[\u001b[0m\u001b[1;36m0\u001b[0m\u001b[1;33m:\u001b[0m\u001b[1;36m10\u001b[0m\u001b[1;33m]\u001b[0m\u001b[1;33m,\u001b[0m \u001b[0mww\u001b[0m\u001b[1;33m[\u001b[0m\u001b[1;36m0\u001b[0m\u001b[1;33m:\u001b[0m\u001b[1;36m10\u001b[0m\u001b[1;33m]\u001b[0m\u001b[1;33m\u001b[0m\u001b[1;33m\u001b[0m\u001b[0m\n\u001b[0m\u001b[0;32m     19\u001b[0m \u001b[1;33m\u001b[0m\u001b[0m\n\u001b[0;32m     20\u001b[0m \u001b[1;33m\u001b[0m\u001b[0m\n",
      "\u001b[1;31mTypeError\u001b[0m: slice indices must be integers or None or have an __index__ method"
     ]
    },
    {
     "data": {
      "image/png": "[encoded data removed]",
      "text/plain": [
       "<Figure size 432x288 with 1 Axes>"
      ]
     },
     "metadata": {
      "needs_background": "light"
     },
     "output_type": "display_data"
    }
   ],
   "source": [
    "a0 = 1 # Volts\n",
    "p0 = 0 # radianes\n",
    "f0 = fs/4   # Hz\n",
    "\n",
    "tt, signal = generador_senoidal (fs, f0, N, a0, p0)\n",
    "plt.plot(tt,signal, label='10 Hz')\n",
    "plt.legend(loc='upper right')\n",
    "plt.xlabel('Tiempo [t]')\n",
    "plt.ylabel('Amplitud [V]')\n",
    "plt.title(\"Señal: Senoidal\")\n",
    "\n",
    "plt.subplot(2,1,1)\n",
    "modulo, fase, ww = analizador_espectro(signal, fs)\n",
    "plt.plot(ww, modulo)\n",
    "plt.subplot(2,1,2)\n",
    "plt.plot(ww, fase)"
   ]
  },
  {
   "cell_type": "markdown",
   "metadata": {},
   "source": [
    "¿Podría inferir la frecuencia de la senoidal a.1 a partir de su representación temporal?\n"
   ]
  },
  {
   "cell_type": "markdown",
   "metadata": {},
   "source": [
    "<div class=\"alert alert-block alert-warning\">\n",
    "<b>Respuesta:</b> Sí, debido a que hay 10 ciclos en 1 segundo.\n",
    "   \n",
    "</div>"
   ]
  },
  {
   "cell_type": "code",
   "execution_count": null,
   "metadata": {},
   "outputs": [],
   "source": [
    "##################\n",
    "# a.2) Senoidal #\n",
    "#################\n",
    "\n",
    "a0 = 1 # Volts\n",
    "p0 = 0 # radianes\n",
    "f0 = fs/2   # Hz\n",
    "\n",
    "# Insertar aquí el código para generar y visualizar la señal\n",
    "##############################################################\n",
    "tt, signal = generador_senoidal (fs, f0, N, a0, p0)\n",
    "plt.plot(tt,signal, label='fs/2 Hz')\n",
    "plt.legend(loc='upper right')\n",
    "plt.xlabel('Tiempo [t]')\n",
    "plt.ylabel('Amplitud [V]')\n",
    "plt.title(\"Señal: Senoidal\")"
   ]
  },
  {
   "cell_type": "code",
   "execution_count": null,
   "metadata": {},
   "outputs": [],
   "source": [
    "##################\n",
    "# a.3) Senoidal #\n",
    "#################\n",
    "\n",
    "a0 = 1       # Volts\n",
    "p0 = np.pi/2 # radianes\n",
    "f0 = fs/2    # Hz\n",
    "\n",
    "# Insertar aquí el código para generar y visualizar la señal\n",
    "##############################################################\n",
    "tt, signal = generador_senoidal (fs, f0, N, a0, p0)\n",
    "plt.plot(tt,signal, label='fs/2 Hz y phi inicial pi/2')\n",
    "plt.legend(loc='upper right')\n",
    "plt.xlabel('Tiempo [t]')\n",
    "plt.ylabel('Amplitud [V]')\n",
    "plt.title(\"Señal: Senoidal\")"
   ]
  },
  {
   "cell_type": "markdown",
   "metadata": {},
   "source": [
    "¿Y para los casos **a.2** y **a.3** podría conocer los parámetros de la senoidal?"
   ]
  },
  {
   "cell_type": "markdown",
   "metadata": {},
   "source": [
    "<div class=\"alert alert-block alert-warning\">\n",
    "<b>Respuesta:</b> No es posible.\n",
    "</div>"
   ]
  },
  {
   "cell_type": "markdown",
   "metadata": {},
   "source": [
    "¿A qué se debe?"
   ]
  },
  {
   "cell_type": "markdown",
   "metadata": {},
   "source": [
    "<div class=\"alert alert-block alert-warning\">\n",
    "<b>Respuesta:</b> Al estar en el límite de la condición de Nyquist en el primer caso siempre muestreamos los ceros de la función y vemos un error de aproximación del algoritmo y para el segundo caso vemos que muestreamos los máximos y los mínimos (+1 y -1)\n",
    "</div>"
   ]
  },
  {
   "cell_type": "code",
   "execution_count": null,
   "metadata": {},
   "outputs": [],
   "source": [
    "##################\n",
    "# a.4) Senoidal #\n",
    "#################\n",
    "\n",
    "a0 = 1     # Volts\n",
    "p0 = 0     # radianes\n",
    "f0 = fs+10 # Hz\n",
    "\n",
    "# Insertar aquí el código para generar y visualizar la señal\n",
    "##############################################################\n",
    "tt, signal = generador_senoidal (fs, f0, N, a0, p0)\n",
    "plt.plot(tt,signal, label='fs+10 Hz')\n",
    "plt.legend(loc='upper right')\n",
    "plt.xlabel('Tiempo [t]')\n",
    "plt.ylabel('Amplitud [V]')\n",
    "plt.title(\"Señal: Senoidal\")"
   ]
  },
  {
   "cell_type": "markdown",
   "metadata": {},
   "source": [
    "¿Es posible diferenciar **a.1** de **a.4** a partir de las gráficas?"
   ]
  },
  {
   "cell_type": "markdown",
   "metadata": {},
   "source": [
    "<div class=\"alert alert-block alert-warning\">\n",
    "<b>Respuesta:</b> No es posible, parece que esta señal también fuera de 10 Hz\n",
    "</div>"
   ]
  },
  {
   "cell_type": "markdown",
   "metadata": {},
   "source": [
    "¿En caso que no, qué solución podría implementar para evitar dicha ambigüedad?"
   ]
  },
  {
   "cell_type": "markdown",
   "metadata": {},
   "source": [
    "<div class=\"alert alert-block alert-warning\">\n",
    "<b>Respuesta:</b> Mediante un filtro anti-alias.\n",
    "</div>"
   ]
  },
  {
   "cell_type": "markdown",
   "metadata": {},
   "source": [
    "<div class=\"alert alert-block alert-info\">\n",
    "<b>2.a)</b> (Opcional) Implemente un algoritmo que calcule la transformada discreta de Fourier (DFT). Utilice las funciones generadoras de señales de 1) para evaluar y ejemplificar su funcionamiento.\n",
    "</div>"
   ]
  },
  {
   "cell_type": "markdown",
   "metadata": {},
   "source": [
    "<div class=\"alert alert-block alert-info\">\n",
    "<b>2.b)</b> (Opcional) Compare el tiempo de ejecución de la DFT implementada en con la **FFT** (implementada en **scipy.signal**) en función del tamaño de la señal N. Grafique el tiempo de ejecución de ambos casos en función de N.\n",
    "</div>"
   ]
  },
  {
   "cell_type": "markdown",
   "metadata": {},
   "source": [
    "<div class=\"alert alert-block alert-success\">\n",
    "<b>Ayuda:</b> Utilice el módulo **timeit** para medir el tiempo transcurrido.\n",
    "</div>"
   ]
  },
  {
   "cell_type": "code",
   "execution_count": null,
   "metadata": {},
   "outputs": [],
   "source": [
    "import timeit\n",
    "\n",
    "the_start = timeit.timeit()\n",
    "print(\"hello\")\n",
    "the_end = timeit.timeit()\n",
    "print(the_start - the_end)\n"
   ]
  },
  {
   "cell_type": "markdown",
   "metadata": {},
   "source": [
    "<div class=\"alert alert-block alert-danger\">\n",
    "<b>¡Atención!:</b> Completá la siguiente tabla. Podés guardar tus resultados en la lista **tus_resultados**.\n",
    "</div>"
   ]
  },
  {
   "cell_type": "code",
   "execution_count": null,
   "metadata": {},
   "outputs": [],
   "source": [
    "from pandas import DataFrame\n",
    "from IPython.display import HTML\n",
    "\n",
    "#######################################\n",
    "# Tu simulación que genere resultados #\n",
    "#######################################\n",
    "\n",
    "tus_resultados = [ ['--'], \n",
    "                   [''], # <-- acá debería haber numeritos :)\n",
    "                   [''], # <-- acá debería haber numeritos :)\n",
    "                   [''], # <-- acá debería haber numeritos :)\n",
    "                   [''], # <-- acá debería haber numeritos :)\n",
    "                   [''], # <-- acá debería haber numeritos :)\n",
    "                   [''], # <-- acá debería haber numeritos :)\n",
    "                   [''], # <-- acá debería haber numeritos :)\n",
    "                   ['']  # <-- acá debería haber numeritos :)\n",
    "                 ]\n",
    "df = DataFrame(tus_resultados, columns=['tiempo transcurrido (s)'],\n",
    "               index=['Tamaño de la señal N', \n",
    "                      16, \n",
    "                      32, \n",
    "                      64, \n",
    "                      128,\n",
    "                      256,\n",
    "                      512,\n",
    "                      1024,\n",
    "                      2048\n",
    "                     ])\n",
    "HTML(df.to_html())\n"
   ]
  },
  {
   "cell_type": "markdown",
   "metadata": {},
   "source": [
    "<div class=\"alert alert-block alert-info\">\n",
    "<b>3.a)</b> Verifique el efecto del leakage para una senoidal de $f_0 = f_S/4 + f_D$ siendo $f_D = (0.01,\\, 0.25,\\, 0.5)$, es decir una frecuencia de desintonía respecto al bin $f_S/4$.\n",
    "</div>"
   ]
  },
  {
   "cell_type": "markdown",
   "metadata": {},
   "source": [
    "<div class=\"alert alert-block alert-danger\">\n",
    "<b>¡Atención!:</b> Completá la siguiente tabla. Podés guardar tus resultados en la lista **tus_resultados**.\n",
    "</div>"
   ]
  },
  {
   "cell_type": "code",
   "execution_count": null,
   "metadata": {},
   "outputs": [],
   "source": [
    "#######################################\n",
    "# Tu simulación que genere resultados #\n",
    "#######################################\n",
    "\n",
    "tus_resultados = [ ['$ \\lvert X(f_0) \\lvert$', '$ \\lvert X(f_0+1) \\lvert $', '$\\sum_{i=F} \\lvert X(f_i) \\lvert ^2 $'], \n",
    "                   ['',                        '',                           '$F:f \\neq f_0$'], \n",
    "                  ['', '', ''], # <-- acá debería haber numeritos :)\n",
    "                  ['', '', ''], # <-- acá debería haber numeritos :)\n",
    "                  ['', '', ''], # <-- acá debería haber numeritos :)\n",
    "                  ['', '', '']  # <-- acá debería haber numeritos :)\n",
    "                 ]\n",
    "df = DataFrame(tus_resultados, columns=['Frecuencia central', 'Primer adyacente', 'Resto de frecuencias'],\n",
    "               index=['$f_0$ \\ expr. matemática', \n",
    "                      '', \n",
    "                      '$f_S/4$', \n",
    "                      '$f_S/4+0.01$', \n",
    "                      '$f_S/4+0.25$', \n",
    "                      '$f_S/4+0.5$'])\n",
    "HTML(df.to_html())\n"
   ]
  },
  {
   "cell_type": "markdown",
   "metadata": {},
   "source": [
    "<div class=\"alert alert-block alert-info\">\n",
    "<b>3.b)</b> Verifique qué ocurre si a la señal de $f_0 = f_S/4 + 0.5$ se le agregan ceros para prolongar su duración. Es decir si la señal tiene N muestras, agregue $M_j$ ceros siendo $M_j = ( \\frac{N}{10},\\, N,\\, 10N)$.\n",
    "</div>"
   ]
  },
  {
   "cell_type": "code",
   "execution_count": null,
   "metadata": {},
   "outputs": [],
   "source": [
    "# Inserte aquí su código"
   ]
  },
  {
   "cell_type": "markdown",
   "metadata": {},
   "source": [
    "**3.c)** ¿Ha variado la resolución espectral en los casos de 3.b?"
   ]
  },
  {
   "cell_type": "markdown",
   "metadata": {},
   "source": [
    "<div class=\"alert alert-block alert-warning\">\n",
    "<b>Respuesta:</b> Escriba aquí su respuesta.\n",
    "</div>"
   ]
  },
  {
   "cell_type": "markdown",
   "metadata": {},
   "source": [
    "**3.d)** ¿Cuál es el efecto que se produce en cada caso? Esta técnica se conoce como Zero padding."
   ]
  },
  {
   "cell_type": "markdown",
   "metadata": {},
   "source": [
    "<div class=\"alert alert-block alert-warning\">\n",
    "<b>Respuesta:</b> Escriba aquí su respuesta.\n",
    "</div>"
   ]
  },
  {
   "cell_type": "markdown",
   "metadata": {},
   "source": [
    "**3.e)** Analice cuál es la frecuencia  $\\hat{f}_0 = \\mathop{arg\\ max}_f \\{\\lvert X(f) \\rvert \\}$ a la que ocurre el máximo del espectro y en cuánto difiere de $f_0$ en términos porcentuales."
   ]
  },
  {
   "cell_type": "code",
   "execution_count": null,
   "metadata": {},
   "outputs": [],
   "source": [
    "#######################################\n",
    "# Tu simulación que genere resultados #\n",
    "#######################################\n",
    "\n",
    "tus_resultados = ['', # <-- acá debería haber numeritos :)\n",
    "                  '', # <-- acá debería haber numeritos :)\n",
    "                  '', # <-- acá debería haber numeritos :)\n",
    "                  '' # <-- acá debería haber numeritos :)\n",
    "                 ]\n",
    "df = DataFrame(tus_resultados, columns=['$e_\\%$'],\n",
    "               index=['0',\n",
    "                      '$N/10$', \n",
    "                      '$N$', \n",
    "                      '$10N$'])\n",
    "HTML(df.to_html())\n"
   ]
  },
  {
   "cell_type": "markdown",
   "metadata": {},
   "source": [
    "<div class=\"alert alert-block alert-info\">\n",
    "<b>4)</b> \n",
    "Para cada señal propuesta complete los valores que se indican en las siguientes consignas.\n",
    "</div>"
   ]
  },
  {
   "cell_type": "markdown",
   "metadata": {},
   "source": [
    "+ En la tabla de resultados de cada inciso, en la fila indicada con **predicción** responda conceptualmente qué contenido espectral debería obtener tras evaluar su FFT (sin realizar ninguna simulación).\n",
    "+ Calcule su espectro y discuta la predicción con los resultados obtenidos de la **simulación**. Intente discutir las diferencias si las hubiera en las respuestas de cada inciso.\n",
    "+ Preste especial atención en su discusión a:\n",
    "  * La energía total de la señal\n",
    "  * La energía del tono en particular\n",
    "  * La localización del tono en el espectro\n",
    "+ Siga las indicaciones particulares para cada señal.\n"
   ]
  },
  {
   "cell_type": "markdown",
   "metadata": {},
   "source": [
    "<div class=\"alert alert-block alert-success\">\n",
    "<b>Ayuda:</b> Las siguientes señales pueden generarse a partir de una senoidal *patrón* siguiendo las consignas de la derecha. \n",
    "</div>"
   ]
  },
  {
   "cell_type": "markdown",
   "metadata": {},
   "source": [
    "<table width=\"80%\" cellpadding=\"7\" cellspacing=\"0\">\n",
    "\t<col width=\"50%\">\n",
    "\t<col width=\"50%\">\n",
    "\t<tbody>\n",
    "\t\t<tr valign=\"top\">\n",
    "\t\t\t<td width=\"296\" style=\"border-top: none; border-bottom: none; border-left: none; border-right: none; padding: 0cm\">\n",
    "\t\t\t\t<p>\n",
    "                    <img src=\"./1.png\" align=\"left\" width=\"100%\" /> \n",
    "                </p>\n",
    "\t\t\t</td>\n",
    "\t\t\t<td width=\"267\" style=\"border-top: none; border-bottom: none; border-left: none; border-right: none; padding-top: 0cm; padding-bottom: 0cm; padding-left: 0.19cm; padding-right: 0cm\">\n",
    "\t\t\t\t<p style=\"margin-bottom: 0cm\"><span lang=\"es-AR\">4.a) Senoidal\n",
    "\t\t\t\tde **energía normalizada** y frecuencia $f_0 = 9 \\cdot f_S/N$. </span></font>\n",
    "\t\t\t\t</p>\n",
    "\t\t\t</td>\n",
    "\t\t</tr>\n",
    "\t</tbody>\n",
    "</table>\n",
    "        "
   ]
  },
  {
   "cell_type": "code",
   "execution_count": null,
   "metadata": {},
   "outputs": [],
   "source": [
    "#######################################\n",
    "# Tu simulación que genere resultados #\n",
    "#######################################\n",
    "\n",
    "tus_resultados = [ ['$\\sum_{f=0}^{f_S/2} \\lvert X(f) \\rvert ^2$', '$ \\lvert X(f_0) \\rvert ^2 $', '$ \\mathop{arg\\ max}_f \\{\\lvert X(f) \\rvert ^2\\} $'], \n",
    "                   ['',                                     '',                           '$f \\in [0:f_S/2]$'], \n",
    "                  ['', '', ''], \n",
    "                  ['', '', ''], # <-- completar acá\n",
    "                  ['', '', ''], \n",
    "                  ['', '', '']  # <-- completar acá\n",
    "                 ]\n",
    "df = DataFrame(tus_resultados, columns=['Energía total', 'Energía en $f_0$', 'Máximo de Energía'],\n",
    "               index=['$f_0$ \\ expr. matemática', \n",
    "                      '', \n",
    "                      '', \n",
    "                      'predicción', \n",
    "                      '', \n",
    "                      'simulación'])\n",
    "HTML(df.to_html())\n"
   ]
  },
  {
   "cell_type": "markdown",
   "metadata": {},
   "source": [
    "<table width=\"80%\" cellpadding=\"7\" cellspacing=\"0\">\n",
    "\t<col width=\"50%\">\n",
    "\t<col width=\"50%\">\n",
    "\t<tbody>\n",
    "\t\t<tr valign=\"top\">\n",
    "\t\t\t<td width=\"296\" style=\"border-top: none; border-bottom: none; border-left: none; border-right: none; padding: 0cm\">\n",
    "\t\t\t\t<p>\n",
    "                    <img src=\"./2.png\" align=\"left\" width=\"100%\" /> \n",
    "                </p>\n",
    "\t\t\t</td>\n",
    "\t\t\t<td width=\"267\" style=\"border-top: none; border-bottom: none; border-left: none; border-right: none; padding-top: 0cm; padding-bottom: 0cm; padding-left: 0.19cm; padding-right: 0cm\">\n",
    "\t\t\t\t<p style=\"margin-bottom: 0cm\"><span lang=\"es-AR\">4.b) **1 solo ciclo** de la misma senoidal\n",
    "\t\t\t\tde **energía normalizada** y frecuencia $f_0 = 9 \\cdot f_S/N$. </span></font>\n",
    "\t\t\t\t</p>\n",
    "\t\t\t</td>\n",
    "\t\t</tr>\n",
    "\t</tbody>\n",
    "</table>\n",
    "        "
   ]
  },
  {
   "cell_type": "code",
   "execution_count": null,
   "metadata": {},
   "outputs": [],
   "source": [
    "#######################################\n",
    "# Tu simulación que genere resultados #\n",
    "#######################################\n",
    "\n",
    "tus_resultados = [ ['$\\sum_{f=0}^{f_S/2} \\lvert X(f) \\rvert ^2$', '$ \\lvert X(f_0) \\rvert ^2 $', '$ \\mathop{arg\\ max}_f \\{\\lvert X(f) \\rvert ^2\\} $'], \n",
    "                   ['',                                     '',                           '$f \\in [0:f_S/2]$'], \n",
    "                  ['', '', ''], \n",
    "                  ['', '', ''], # <-- completar acá\n",
    "                  ['', '', ''], \n",
    "                  ['', '', '']  # <-- completar acá\n",
    "                 ]\n",
    "df = DataFrame(tus_resultados, columns=['Energía total', 'Energía en $f_0$', 'Máximo de Energía'],\n",
    "               index=['$f_0$ \\ expr. matemática', \n",
    "                      '', \n",
    "                      '', \n",
    "                      'predicción', \n",
    "                      '', \n",
    "                      'simulación'])\n",
    "HTML(df.to_html())\n"
   ]
  },
  {
   "cell_type": "markdown",
   "metadata": {},
   "source": [
    "Observe el resultado y compare sus resultados con el punto anterior. ¿Qué ha cambiado? ¿Cuánto vale la energía de un solo ciclo de senoidal respecto al caso anterior?"
   ]
  },
  {
   "cell_type": "markdown",
   "metadata": {},
   "source": [
    "<div class=\"alert alert-block alert-warning\">\n",
    "<b>Respuesta:</b> Escriba aquí su respuesta.\n",
    "</div>"
   ]
  },
  {
   "cell_type": "markdown",
   "metadata": {},
   "source": [
    "<table width=\"80%\" cellpadding=\"7\" cellspacing=\"0\">\n",
    "\t<col width=\"50%\">\n",
    "\t<col width=\"50%\">\n",
    "\t<tbody>\n",
    "\t\t<tr valign=\"top\">\n",
    "\t\t\t<td width=\"296\" style=\"border-top: none; border-bottom: none; border-left: none; border-right: none; padding: 0cm\">\n",
    "\t\t\t\t<p>\n",
    "                    <img src=\"./3.png\" align=\"left\" width=\"100%\" /> \n",
    "                </p>\n",
    "\t\t\t</td>\n",
    "\t\t\t<td width=\"267\" style=\"border-top: none; border-bottom: none; border-left: none; border-right: none; padding-top: 0cm; padding-bottom: 0cm; padding-left: 0.19cm; padding-right: 0cm\">\n",
    "\t\t\t\t<p style=\"margin-bottom: 0cm\"><span lang=\"es-AR\">4.c) 1 solo ciclo de la misma senoidal\n",
    "\t\t\t\tde energía normalizada y frecuencia $f_0 = 9 \\cdot f_S/N$ **pero demorado un tiempo igual a dos ciclos**. </span></font>\n",
    "\t\t\t\t</p>\n",
    "\t\t\t</td>\n",
    "\t\t</tr>\n",
    "\t</tbody>\n",
    "</table>\n",
    "        "
   ]
  },
  {
   "cell_type": "code",
   "execution_count": null,
   "metadata": {},
   "outputs": [],
   "source": [
    "#######################################\n",
    "# Tu simulación que genere resultados #\n",
    "#######################################\n",
    "\n",
    "tus_resultados = [ ['$\\sum_{f=0}^{f_S/2} \\lvert X(f) \\rvert ^2$', '$ \\lvert X(f_0) \\rvert ^2 $', '$ \\mathop{arg\\ max}_f \\{\\lvert X(f) \\rvert ^2\\} $'], \n",
    "                   ['',                                     '',                           '$f \\in [0:f_S/2]$'], \n",
    "                  ['', '', ''], \n",
    "                  ['', '', ''], # <-- completar acá\n",
    "                  ['', '', ''], \n",
    "                  ['', '', '']  # <-- completar acá\n",
    "                 ]\n",
    "df = DataFrame(tus_resultados, columns=['Energía total', 'Energía en $f_0$', 'Máximo de Energía'],\n",
    "               index=['$f_0$ \\ expr. matemática', \n",
    "                      '', \n",
    "                      '', \n",
    "                      'predicción', \n",
    "                      '', \n",
    "                      'simulación'])\n",
    "HTML(df.to_html())\n"
   ]
  },
  {
   "cell_type": "markdown",
   "metadata": {},
   "source": [
    "En este caso, ¿Qué ha cambiado respecto al anterior? ¿Cómo se manifiesta en el dominio frecuencial?"
   ]
  },
  {
   "cell_type": "markdown",
   "metadata": {},
   "source": [
    "<div class=\"alert alert-block alert-warning\">\n",
    "<b>Respuesta:</b> Escriba aquí su respuesta.\n",
    "</div>"
   ]
  },
  {
   "cell_type": "markdown",
   "metadata": {},
   "source": [
    "<table width=\"80%\" cellpadding=\"7\" cellspacing=\"0\">\n",
    "\t<col width=\"50%\">\n",
    "\t<col width=\"50%\">\n",
    "\t<tbody>\n",
    "\t\t<tr valign=\"top\">\n",
    "\t\t\t<td width=\"296\" style=\"border-top: none; border-bottom: none; border-left: none; border-right: none; padding: 0cm\">\n",
    "\t\t\t\t<p>\n",
    "                    <img src=\"./4.png\" align=\"left\" width=\"100%\" /> \n",
    "                </p>\n",
    "\t\t\t</td>\n",
    "\t\t\t<td width=\"267\" style=\"border-top: none; border-bottom: none; border-left: none; border-right: none; padding-top: 0cm; padding-bottom: 0cm; padding-left: 0.19cm; padding-right: 0cm\">\n",
    "\t\t\t\t<p style=\"margin-bottom: 0cm\"><span lang=\"es-AR\">4.d) 1 solo ciclo de la misma senoidal utilizada hasta ahora, y otro ciclo de idénticas características pero de $f_1 = 8 \\cdot f_S/N$ y demorado aproximadamente como se observa a la izquierda. </span></font>\n",
    "\t\t\t\t</p>\n",
    "\t\t\t</td>\n",
    "\t\t</tr>\n",
    "\t</tbody>\n",
    "</table>\n",
    "        "
   ]
  },
  {
   "cell_type": "code",
   "execution_count": null,
   "metadata": {},
   "outputs": [],
   "source": [
    "#######################################\n",
    "# Tu simulación que genere resultados #\n",
    "#######################################\n",
    "\n",
    "tus_resultados = [ ['$\\sum_{f=0}^{f_S/2} \\lvert X(f) \\rvert ^2$', '$ \\lvert X(f_0) \\rvert ^2 $', '$ \\mathop{arg\\ max}_f \\{\\lvert X(f) \\rvert ^2\\} $'], \n",
    "                   ['',                                     '',                           '$f \\in [0:f_S/2]$'], \n",
    "                  ['', '', ''], \n",
    "                  ['', '', ''], # <-- completar acá\n",
    "                  ['', '', ''], \n",
    "                  ['', '', '']  # <-- completar acá\n",
    "                 ]\n",
    "df = DataFrame(tus_resultados, columns=['Energía total', 'Energía en $f_0$', 'Máximo de Energía'],\n",
    "               index=['$f_0$ \\ expr. matemática', \n",
    "                      '', \n",
    "                      '', \n",
    "                      'predicción', \n",
    "                      '', \n",
    "                      'simulación'])\n",
    "HTML(df.to_html())\n"
   ]
  },
  {
   "cell_type": "markdown",
   "metadata": {},
   "source": [
    "¿Puede localizar ambas componentes en este espectro? ¿Cómo lo haría?"
   ]
  },
  {
   "cell_type": "markdown",
   "metadata": {},
   "source": [
    "<div class=\"alert alert-block alert-warning\">\n",
    "<b>Respuesta:</b> Escriba aquí su respuesta.\n",
    "</div>"
   ]
  },
  {
   "cell_type": "markdown",
   "metadata": {},
   "source": [
    "<table width=\"80%\" cellpadding=\"7\" cellspacing=\"0\">\n",
    "\t<col width=\"50%\">\n",
    "\t<col width=\"50%\">\n",
    "\t<tbody>\n",
    "\t\t<tr valign=\"top\">\n",
    "\t\t\t<td width=\"296\" style=\"border-top: none; border-bottom: none; border-left: none; border-right: none; padding: 0cm\">\n",
    "\t\t\t\t<p>\n",
    "                    <img src=\"./5.png\" align=\"left\" width=\"100%\" /> \n",
    "                </p>\n",
    "\t\t\t</td>\n",
    "\t\t\t<td width=\"267\" style=\"border-top: none; border-bottom: none; border-left: none; border-right: none; padding-top: 0cm; padding-bottom: 0cm; padding-left: 0.19cm; padding-right: 0cm\">\n",
    "\t\t\t\t<p style=\"margin-bottom: 0cm\"><span lang=\"es-AR\">4.e) Idéntico al caso anterior salvo que se invierte la ocurrencia de las señales. </span></font>\n",
    "\t\t\t\t</p>\n",
    "\t\t\t</td>\n",
    "\t\t</tr>\n",
    "\t</tbody>\n",
    "</table>\n",
    "        "
   ]
  },
  {
   "cell_type": "code",
   "execution_count": null,
   "metadata": {},
   "outputs": [],
   "source": [
    "#######################################\n",
    "# Tu simulación que genere resultados #\n",
    "#######################################\n",
    "\n",
    "tus_resultados = [ ['$\\sum_{f=0}^{f_S/2} \\lvert X(f) \\rvert ^2$', '$ \\lvert X(f_0) \\rvert ^2 $', '$ \\mathop{arg\\ max}_f \\{\\lvert X(f) \\rvert ^2\\} $'], \n",
    "                   ['',                                     '',                           '$f \\in [0:f_S/2]$'], \n",
    "                  ['', '', ''], \n",
    "                  ['', '', ''], # <-- completar acá\n",
    "                  ['', '', ''], \n",
    "                  ['', '', '']  # <-- completar acá\n",
    "                 ]\n",
    "df = DataFrame(tus_resultados, columns=['Energía total', 'Energía en $f_0$', 'Máximo de Energía'],\n",
    "               index=['$f_0$ \\ expr. matemática', \n",
    "                      '', \n",
    "                      '', \n",
    "                      'predicción', \n",
    "                      '', \n",
    "                      'simulación'])\n",
    "HTML(df.to_html())\n"
   ]
  },
  {
   "cell_type": "markdown",
   "metadata": {},
   "source": [
    "¿ha cambiado el espectro respecto al caso anterior? ¿Si solo dispone del espectro, puede decir cuál ha ocurrido antes? ¿Resulta útil el análisis de espectral mediante la transformada de Fourier en este caso?"
   ]
  },
  {
   "cell_type": "markdown",
   "metadata": {},
   "source": [
    "<div class=\"alert alert-block alert-warning\">\n",
    "<b>Respuesta:</b> Escriba aquí su respuesta.\n",
    "</div>"
   ]
  },
  {
   "cell_type": "markdown",
   "metadata": {},
   "source": [
    "<table width=\"80%\" cellpadding=\"7\" cellspacing=\"0\">\n",
    "\t<col width=\"50%\">\n",
    "\t<col width=\"50%\">\n",
    "\t<tbody>\n",
    "\t\t<tr valign=\"top\">\n",
    "\t\t\t<td width=\"296\" style=\"border-top: none; border-bottom: none; border-left: none; border-right: none; padding: 0cm\">\n",
    "\t\t\t\t<p>\n",
    "                    <img src=\"./6.png\" align=\"left\" width=\"100%\" /> \n",
    "                </p>\n",
    "\t\t\t</td>\n",
    "\t\t\t<td width=\"267\" style=\"border-top: none; border-bottom: none; border-left: none; border-right: none; padding-top: 0cm; padding-bottom: 0cm; padding-left: 0.19cm; padding-right: 0cm\">\n",
    "\t\t\t\t<p style=\"margin-bottom: 0cm\"><span lang=\"es-AR\">4.f) Arme una señal como la que se muestra a la izquierda, concatenando 3 ciclos de $f_0 = 9 \\cdot f_S/N$.</span></font>\n",
    "\t\t\t\t</p>\n",
    "\t\t\t</td>\n",
    "\t\t</tr>\n",
    "\t</tbody>\n",
    "</table>\n",
    "        "
   ]
  },
  {
   "cell_type": "code",
   "execution_count": null,
   "metadata": {},
   "outputs": [],
   "source": [
    "#######################################\n",
    "# Tu simulación que genere resultados #\n",
    "#######################################\n",
    "\n",
    "tus_resultados = [ ['$\\sum_{f=0}^{f_S/2} \\lvert X(f) \\rvert ^2$', '$ \\lvert X(f_0) \\rvert ^2 $', '$ \\mathop{arg\\ max}_f \\{\\lvert X(f) \\rvert ^2\\} $'], \n",
    "                   ['',                                     '',                           '$f \\in [0:f_S/2]$'], \n",
    "                  ['', '', ''], \n",
    "                  ['', '', ''], # <-- completar acá\n",
    "                  ['', '', ''], \n",
    "                  ['', '', '']  # <-- completar acá\n",
    "                 ]\n",
    "df = DataFrame(tus_resultados, columns=['Energía total', 'Energía en $f_0$', 'Máximo de Energía'],\n",
    "               index=['$f_0$ \\ expr. matemática', \n",
    "                      '', \n",
    "                      '', \n",
    "                      'predicción', \n",
    "                      '', \n",
    "                      'simulación'])\n",
    "HTML(df.to_html())\n"
   ]
  },
  {
   "cell_type": "markdown",
   "metadata": {},
   "source": [
    "¿Qué energía tiene la componente $f_0$ en el espectro en comparación con la señal donde los 9 ciclos estaban presentes? ¿Y respecto a la que solo había 1 ciclo?"
   ]
  },
  {
   "cell_type": "markdown",
   "metadata": {},
   "source": [
    "<div class=\"alert alert-block alert-warning\">\n",
    "<b>Respuesta:</b> Escriba aquí su respuesta.\n",
    "</div>"
   ]
  },
  {
   "cell_type": "markdown",
   "metadata": {},
   "source": [
    "<table width=\"80%\" cellpadding=\"7\" cellspacing=\"0\">\n",
    "\t<col width=\"50%\">\n",
    "\t<col width=\"50%\">\n",
    "\t<tbody>\n",
    "\t\t<tr valign=\"top\">\n",
    "\t\t\t<td width=\"296\" style=\"border-top: none; border-bottom: none; border-left: none; border-right: none; padding: 0cm\">\n",
    "\t\t\t\t<p>\n",
    "                    <img src=\"./7.png\" align=\"left\" width=\"100%\" /> \n",
    "                </p>\n",
    "\t\t\t</td>\n",
    "\t\t\t<td width=\"267\" style=\"border-top: none; border-bottom: none; border-left: none; border-right: none; padding-top: 0cm; padding-bottom: 0cm; padding-left: 0.19cm; padding-right: 0cm\">\n",
    "\t\t\t\t<p style=\"margin-bottom: 0cm\"><span lang=\"es-AR\">4.g) Idem anterior, pero cada ciclo con amplitudes (1, 5, 3).</span></font>\n",
    "\t\t\t\t</p>\n",
    "\t\t\t</td>\n",
    "\t\t</tr>\n",
    "\t</tbody>\n",
    "</table>\n",
    "        "
   ]
  },
  {
   "cell_type": "code",
   "execution_count": null,
   "metadata": {},
   "outputs": [],
   "source": [
    "#######################################\n",
    "# Tu simulación que genere resultados #\n",
    "#######################################\n",
    "\n",
    "tus_resultados = [ ['$\\sum_{f=0}^{f_S/2} \\lvert X(f) \\rvert ^2$', '$ \\lvert X(f_0) \\rvert ^2 $', '$ \\mathop{arg\\ max}_f \\{\\lvert X(f) \\rvert ^2\\} $'], \n",
    "                   ['',                                     '',                           '$f \\in [0:f_S/2]$'], \n",
    "                  ['', '', ''], \n",
    "                  ['', '', ''], # <-- completar acá\n",
    "                  ['', '', ''], \n",
    "                  ['', '', '']  # <-- completar acá\n",
    "                 ]\n",
    "df = DataFrame(tus_resultados, columns=['Energía total', 'Energía en $f_0$', 'Máximo de Energía'],\n",
    "               index=['$f_0$ \\ expr. matemática', \n",
    "                      '', \n",
    "                      '', \n",
    "                      'predicción', \n",
    "                      '', \n",
    "                      'simulación'])\n",
    "HTML(df.to_html())\n"
   ]
  },
  {
   "cell_type": "markdown",
   "metadata": {},
   "source": [
    "¿Qué energía tiene la componente $f_0$ en el espectro en comparación con el inciso anterior?"
   ]
  },
  {
   "cell_type": "markdown",
   "metadata": {},
   "source": [
    "<div class=\"alert alert-block alert-warning\">\n",
    "<b>Respuesta:</b> Escriba aquí su respuesta.\n",
    "</div>"
   ]
  },
  {
   "cell_type": "markdown",
   "metadata": {},
   "source": [
    "<table width=\"80%\" cellpadding=\"7\" cellspacing=\"0\">\n",
    "\t<col width=\"50%\">\n",
    "\t<col width=\"50%\">\n",
    "\t<tbody>\n",
    "\t\t<tr valign=\"top\">\n",
    "\t\t\t<td width=\"296\" style=\"border-top: none; border-bottom: none; border-left: none; border-right: none; padding: 0cm\">\n",
    "\t\t\t\t<p>\n",
    "                    <img src=\"./8.png\" align=\"left\" width=\"100%\" /> \n",
    "                </p>\n",
    "\t\t\t</td>\n",
    "\t\t\t<td width=\"267\" style=\"border-top: none; border-bottom: none; border-left: none; border-right: none; padding-top: 0cm; padding-bottom: 0cm; padding-left: 0.19cm; padding-right: 0cm\">\n",
    "\t\t\t\t<p style=\"margin-bottom: 0cm\"><span lang=\"es-AR\">4.h) Idem patrón anterior, pero repetido 3 veces.</span></font>\n",
    "\t\t\t\t</p>\n",
    "\t\t\t</td>\n",
    "\t\t</tr>\n",
    "\t</tbody>\n",
    "</table>\n",
    "        "
   ]
  },
  {
   "cell_type": "code",
   "execution_count": null,
   "metadata": {},
   "outputs": [],
   "source": [
    "#######################################\n",
    "# Tu simulación que genere resultados #\n",
    "#######################################\n",
    "\n",
    "tus_resultados = [ ['$\\sum_{f=0}^{f_S/2} \\lvert X(f) \\rvert ^2$', '$ \\lvert X(f_0) \\rvert ^2 $', '$ \\mathop{arg\\ max}_f \\{\\lvert X(f) \\rvert ^2\\} $'], \n",
    "                   ['',                                     '',                           '$f \\in [0:f_S/2]$'], \n",
    "                  ['', '', ''], \n",
    "                  ['', '', ''], # <-- completar acá\n",
    "                  ['', '', ''], \n",
    "                  ['', '', '']  # <-- completar acá\n",
    "                 ]\n",
    "df = DataFrame(tus_resultados, columns=['Energía total', 'Energía en $f_0$', 'Máximo de Energía'],\n",
    "               index=['$f_0$ \\ expr. matemática', \n",
    "                      '', \n",
    "                      '', \n",
    "                      'predicción', \n",
    "                      '', \n",
    "                      'simulación'])\n",
    "HTML(df.to_html())\n"
   ]
  },
  {
   "cell_type": "markdown",
   "metadata": {},
   "source": [
    "¿Qué energía tiene la componente $f_0$ en el espectro en comparación con el inciso anterior? ¿Y respecto al que estaban los 9 ciclos presentes pero con la misma amplitud?"
   ]
  },
  {
   "cell_type": "markdown",
   "metadata": {},
   "source": [
    "<div class=\"alert alert-block alert-warning\">\n",
    "<b>Respuesta:</b> Escriba aquí su respuesta.\n",
    "</div>"
   ]
  },
  {
   "cell_type": "markdown",
   "metadata": {},
   "source": [
    "<table width=\"80%\" cellpadding=\"7\" cellspacing=\"0\">\n",
    "\t<col width=\"50%\">\n",
    "\t<col width=\"50%\">\n",
    "\t<tbody>\n",
    "\t\t<tr valign=\"top\">\n",
    "\t\t\t<td width=\"296\" style=\"border-top: none; border-bottom: none; border-left: none; border-right: none; padding: 0cm\">\n",
    "\t\t\t\t<p>\n",
    "                    <img src=\"./9.png\" align=\"left\" width=\"100%\" /> \n",
    "                </p>\n",
    "\t\t\t</td>\n",
    "\t\t\t<td width=\"267\" style=\"border-top: none; border-bottom: none; border-left: none; border-right: none; padding-top: 0cm; padding-bottom: 0cm; padding-left: 0.19cm; padding-right: 0cm\">\n",
    "\t\t\t\t<p style=\"margin-bottom: 0cm\"><span lang=\"es-AR\">4.i) En este caso genere un ciclo de $f_0 = 9 \\cdot f_S/N$, y seguido otro ciclo pero desfasado $\\pi$ radianes.</span></font>\n",
    "\t\t\t\t</p>\n",
    "\t\t\t</td>\n",
    "\t\t</tr>\n",
    "\t</tbody>\n",
    "</table>\n",
    "        "
   ]
  },
  {
   "cell_type": "code",
   "execution_count": null,
   "metadata": {},
   "outputs": [],
   "source": [
    "#######################################\n",
    "# Tu simulación que genere resultados #\n",
    "#######################################\n",
    "\n",
    "tus_resultados = [ ['$\\sum_{f=0}^{f_S/2} \\lvert X(f) \\rvert ^2$', '$ \\lvert X(f_0) \\rvert ^2 $', '$ \\mathop{arg\\ max}_f \\{\\lvert X(f) \\rvert ^2\\} $'], \n",
    "                   ['',                                     '',                           '$f \\in [0:f_S/2]$'], \n",
    "                  ['', '', ''], \n",
    "                  ['', '', ''], # <-- completar acá\n",
    "                  ['', '', ''], \n",
    "                  ['', '', '']  # <-- completar acá\n",
    "                 ]\n",
    "df = DataFrame(tus_resultados, columns=['Energía total', 'Energía en $f_0$', 'Máximo de Energía'],\n",
    "               index=['$f_0$ \\ expr. matemática', \n",
    "                      '', \n",
    "                      '', \n",
    "                      'predicción', \n",
    "                      '', \n",
    "                      'simulación'])\n",
    "HTML(df.to_html())\n"
   ]
  },
  {
   "cell_type": "markdown",
   "metadata": {},
   "source": [
    "¿Qué energía tiene la componente $f_0$ en el espectro en comparación con el que estaba un solo ciclo presente?"
   ]
  },
  {
   "cell_type": "markdown",
   "metadata": {},
   "source": [
    "<div class=\"alert alert-block alert-warning\">\n",
    "<b>Respuesta:</b> Escriba aquí su respuesta.\n",
    "</div>"
   ]
  },
  {
   "cell_type": "markdown",
   "metadata": {},
   "source": [
    "Luego de realizar la experimentación y observando los resultados obtenidos discuta si es fiable o no medir en el dominio de Fourier, por medio de la FFT los siguientes aspectos de una señal:\n",
    "\n",
    "    • Energía\n",
    "    • Contenido espectral\n",
    "    • Energía de un determinado ancho de banda o componente espectral\n",
    "    • Localización temporal de un determinado componente espectral."
   ]
  },
  {
   "cell_type": "markdown",
   "metadata": {},
   "source": [
    "<div class=\"alert alert-block alert-warning\">\n",
    "<b>Respuesta:</b> Escriba aquí su respuesta.\n",
    "</div>"
   ]
  },
  {
   "cell_type": "markdown",
   "metadata": {},
   "source": [
    "<div class=\"alert alert-block alert-info\">\n",
    "<b>5)</b> \n",
    "Simule el efecto de cuantizar una señal continua en el tiempo mediante un conversor analógico digital (ADC).\n",
    "</div>"
   ]
  },
  {
   "cell_type": "markdown",
   "metadata": {},
   "source": [
    "Para ello analice señales determinísticas, por ejemplo una senoidal de **energía normalizada** y frecuencia $f_0$, y otras que varíen de forma más aleatoria y por lo tanto, representativa de una señal real, por ejemplo añadiendo ruido. Es decir que la señal *real* simulada será \n",
    "\n",
    "$$s_R = s + n$$\n",
    "\n",
    "donde la señal $n$ debe tener una energía de $1/10$.\n",
    "           \n",
    "Puede simular una señal continua (aproximadamente para los fines prácticos), mediante una señal muestreada a una $f^1_S$ muy alta en comparación con las $f_S$  que quiere estudiar, y un tipo de dato de doble precisión (double o float de 64 bits). De esta manera se asegura una grilla de cuantización (en tiempo y amplitud) mucho más densa que la que se va a simular. Se pide cuantizar a palabras de 4, 8 y 16 bits, obteniendo\n",
    "\n",
    "$$ s_Q = \\mathop{Q}_i \\{s_R\\} \\quad i \\in (4, 8, 16) $$\n",
    "\n",
    "Siendo $\\mathop{Q}_i$ la función **no lineal** responsable de la cuantización a *i-* bits de la señal real $s_R$. Describa el ruido de cuantización \n",
    "\n",
    "$$ e = s_Q - s_R$$\n",
    "\n",
    "para las 3 situaciones antedichas siguiendo las siguientes consignas.\n",
    "     \n"
   ]
  },
  {
   "cell_type": "markdown",
   "metadata": {},
   "source": [
    "<div class=\"alert alert-block alert-info\">\n",
    "<b>5.a)</b> \n",
    "La señal temporal $e$ y su espectro $E$.\n",
    "</div>"
   ]
  },
  {
   "cell_type": "code",
   "execution_count": null,
   "metadata": {},
   "outputs": [],
   "source": [
    "#######################################\n",
    "# Tu simulación que genere resultados #\n",
    "#######################################\n",
    "\n",
    "tus_resultados = [ ['$\\sum_{f=0}^{f_S/2} \\lvert S_R(f) \\rvert ^2$', '$\\sum_{f=0}^{f_S/2} \\lvert S_Q(f) \\rvert ^2$', '$\\sum_{f=0}^{f_S/2} \\lvert e(f) \\rvert ^2$' ], \n",
    "                   ['',                                             '',                                             ''                              ], \n",
    "                   ['', '', ''], # <-- completar acá\n",
    "                   ['', '', ''], # <-- completar acá\n",
    "                   ['', '', ''], # <-- completar acá\n",
    "                 ]\n",
    "df = DataFrame(tus_resultados, columns=['Energía total', 'Energía total Q', 'Energía total $e$'],\n",
    "               index=['$f_0$ \\ expr. matemática', \n",
    "                      '', \n",
    "                      '4 bits', \n",
    "                      '8 bits', \n",
    "                      '16 bits'\n",
    "                      ])\n",
    "HTML(df.to_html())\n"
   ]
  },
  {
   "cell_type": "markdown",
   "metadata": {},
   "source": [
    "<div class=\"alert alert-block alert-info\">\n",
    "<b>5.b)</b> El histograma de la señal $e_i$ para cada tamaño de palabra.\n",
    "</div>"
   ]
  },
  {
   "cell_type": "code",
   "execution_count": null,
   "metadata": {},
   "outputs": [],
   "source": [
    "#####################################\n",
    "# Tu simulación que genere gráficas #\n",
    "#####################################\n"
   ]
  },
  {
   "cell_type": "markdown",
   "metadata": {},
   "source": [
    "¿Qué información podemos obtener de esta forma de analizar la señal $e_i$?"
   ]
  },
  {
   "cell_type": "markdown",
   "metadata": {},
   "source": [
    "<div class=\"alert alert-block alert-warning\">\n",
    "<b>Respuesta:</b> Escriba aquí su respuesta.\n",
    "</div>"
   ]
  },
  {
   "cell_type": "markdown",
   "metadata": {},
   "source": [
    "<div class=\"alert alert-block alert-info\">\n",
    "<b>5.c)</b> Una descripción de la señal $e_i$, por medio del **valor medio**, su valor **RMS** y su energía **energía**\n",
    "</div>"
   ]
  },
  {
   "cell_type": "code",
   "execution_count": null,
   "metadata": {},
   "outputs": [],
   "source": [
    "#######################################\n",
    "# Tu simulación que genere resultados #\n",
    "#######################################\n",
    "\n",
    "tus_resultados = [ \n",
    "                   ['', '', ''], # <-- completar acá\n",
    "                   ['', '', ''], # <-- completar acá\n",
    "                   ['', '', ''], # <-- completar acá\n",
    "                 ]\n",
    "df = DataFrame(tus_resultados, columns=['Valor medio', 'RMS', 'Energía'],\n",
    "               index=[\n",
    "                      '4 bits', \n",
    "                      '8 bits', \n",
    "                      '16 bits'\n",
    "                      ])\n",
    "HTML(df.to_html())\n"
   ]
  },
  {
   "cell_type": "markdown",
   "metadata": {},
   "source": [
    "<div class=\"alert alert-block alert-info\">\n",
    "<b>5.d)</b> Una descripción **estadística** de la señal $e_i$, por medio de su **media**, su **desvío estándard** y su energía **varianza**.\n",
    "</div>"
   ]
  },
  {
   "cell_type": "code",
   "execution_count": null,
   "metadata": {},
   "outputs": [],
   "source": [
    "#######################################\n",
    "# Tu simulación que genere resultados #\n",
    "#######################################\n",
    "\n",
    "tus_resultados = [ \n",
    "                   ['', '', ''], # <-- completar acá\n",
    "                   ['', '', ''], # <-- completar acá\n",
    "                   ['', '', ''], # <-- completar acá\n",
    "                 ]\n",
    "df = DataFrame(tus_resultados, columns=['Media', 'Desvío estándard', 'Varianza'],\n",
    "               index=[\n",
    "                      '4 bits', \n",
    "                      '8 bits', \n",
    "                      '16 bits'\n",
    "                      ])\n",
    "HTML(df.to_html())\n"
   ]
  },
  {
   "cell_type": "markdown",
   "metadata": {},
   "source": [
    "Discutir las similitudes y diferencias con los parámetros calculados en **c)** y **d)**. "
   ]
  },
  {
   "cell_type": "markdown",
   "metadata": {},
   "source": [
    "<div class=\"alert alert-block alert-warning\">\n",
    "<b>Respuesta:</b> Escriba aquí su respuesta.\n",
    "</div>"
   ]
  }
 ],
 "metadata": {
  "kernelspec": {
   "display_name": "Python 3",
   "language": "python",
   "name": "python3"
  },
  "language_info": {
   "codemirror_mode": {
    "name": "ipython",
    "version": 3
   },
   "file_extension": ".py",
   "mimetype": "text/x-python",
   "name": "python",
   "nbconvert_exporter": "python",
   "pygments_lexer": "ipython3",
   "version": "3.6.8"
  }
 },
 "nbformat": 4,
 "nbformat_minor": 2
}
